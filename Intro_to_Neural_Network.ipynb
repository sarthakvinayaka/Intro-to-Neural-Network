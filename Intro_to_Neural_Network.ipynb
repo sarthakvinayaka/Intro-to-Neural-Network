{
  "nbformat": 4,
  "nbformat_minor": 0,
  "metadata": {
    "colab": {
      "name": "Intro to Neural Network.ipynb",
      "provenance": []
    },
    "kernelspec": {
      "name": "python3",
      "display_name": "Python 3"
    }
  },
  "cells": [
    {
      "cell_type": "markdown",
      "metadata": {
        "id": "pe_0zdRHVt9O",
        "colab_type": "text"
      },
      "source": [
        "##**Building Blocks**\n",
        "\n",
        "First, we have to talk about neurons, the basic unit of a neural network. A neuron takes inputs, does some math with them, and produces one output. Here’s what a 2-input neuron looks like:\n",
        "\n",
        "\n",
        "![alt text](https://miro.medium.com/max/1200/1*JRRC_UDsW1kDgPK3MW1GjQ.png)\n",
        "\n",
        "\n",
        "3 things are happening here. First, each input is multiplied by a weight:\n",
        "\n",
        "![alt text](https://miro.medium.com/max/1400/1*Iq76QGqSTJfYRztFhwK0yw.png)\n",
        "\n",
        "\n",
        "Next, all the weighted inputs are added together with a bias b:\n",
        "\n",
        "![alt text](https://miro.medium.com/max/1400/1*CE-YfWhFQ2yQSGq9Zaxd9Q.png)\n",
        "\n",
        "\n",
        "\n",
        "Finally, the sum is passed through an activation function:\n",
        "\n",
        "\n",
        "![alt text](https://miro.medium.com/max/1400/1*9BFMXPkoAqN_EW7XTPvuGg.png)\n",
        "\n",
        "The activation function is used to turn an unbounded input into an output that has a nice, predictable form. A commonly used activation function is the sigmoid function:\n",
        "\n",
        "![alt text](https://miro.medium.com/max/1400/1*Ul8Yu_r8GKSFillzbPFrPQ.png)\n",
        "\n",
        "The sigmoid function only outputs numbers in the range (0,1). You can think of it as compressing (−∞,+∞) to (0,1) — big negative numbers become ~0, and big positive numbers become ~1.\n",
        "\n",
        "\n",
        "\n"
      ]
    },
    {
      "cell_type": "markdown",
      "metadata": {
        "id": "PEJdn070Y8dV",
        "colab_type": "text"
      },
      "source": [
        "##**An Example: Feedforward**\n",
        "\n",
        "Let’s use the network pictured above and assume all neurons have the same weights w=[0,1], the same bias b=0, and the same sigmoid activation function. Let h1​, h2​, o1​ denote the outputs of the neurons they represent.\n",
        "\n",
        "\n",
        "What happens if we pass in the input x=[2, 3]?\n",
        "\n",
        "\n",
        "![alt text](https://miro.medium.com/max/1400/1*6oNvFWIYvAxH0whBFCxsKw.png)\n",
        "\n",
        "\n",
        "The output of the neural network for input x=[2,3] is 0.7216.\n",
        "\n",
        "\n",
        "A neural network can have any number of layers with any number of neurons in those layers. The basic idea stays the same: feed the input(s) forward through the neurons in the network to get the output(s) at the end.\n",
        "\n",
        "\n"
      ]
    },
    {
      "cell_type": "markdown",
      "metadata": {
        "id": "QgFkPztwZ2pn",
        "colab_type": "text"
      },
      "source": [
        "##**Loss**\n",
        "\n",
        "Before we train our network, we first need a way to quantify how “good” it’s doing so that it can try to do “better”. That’s what the loss is.\n",
        "\n",
        "\n",
        "We’ll use the mean squared error (MSE) loss:\n",
        "\n",
        "![alt text](https://miro.medium.com/max/1400/1*AGjwUIJ62a9He2K919OJug.png)\n",
        "\n",
        "Let’s break this down:\n",
        "\n",
        "\n",
        "\n",
        "\n",
        "*   n is the number of samples.\n",
        "*   y represents the variable being predicted\n",
        "*   y_true​ is the true value of the variable (the “correct answer”).\n",
        "*   y_pred​ is the predicted value of the variable\n",
        "\n",
        "\n",
        "\n",
        "\n",
        "\n",
        "(y_true​−y_pred​)² is known as the squared error.Our loss function is simply taking the average over all squared errors (hence the name mean squared error. The better our predictions are, the lower our loss will be!\n",
        "\n",
        "Better predictions = Lower loss.\n",
        "\n",
        "Training a network = trying to minimize its loss."
      ]
    },
    {
      "cell_type": "markdown",
      "metadata": {
        "id": "1xFkqiB5bpH7",
        "colab_type": "text"
      },
      "source": [
        "##**Training a Neural Network**\n",
        "\n",
        "We now have a clear goal: minimize the loss of the neural network. We know we can change the network’s weights and biases to influence its predictions.\n",
        "\n",
        "Another way to think about loss is as a function of weights and biases. Let’s label each weight and bias in our network:\n",
        "\n",
        "![alt text](https://miro.medium.com/max/1100/1*JuCFYUaqd7WTX8PKHkfuQw.png)\n",
        "\n",
        "\n",
        "Then, we can write loss as a multivariable function:\n",
        "\n",
        "![alt text](https://miro.medium.com/max/1400/1*OHMn7EMtIG77EAmccwgowg.png)\n",
        "\n",
        "\n",
        "We’ll use an optimization algorithm called stochastic gradient descent (SGD) that tells us how to change our weights and biases to minimize loss. \n",
        "\n",
        "![alt text](https://miro.medium.com/max/1400/1*kX2Av8AoG8VX42kXhhFHZw.png)\n",
        "\n",
        "\n",
        "η is a constant called the learning rate that controls how fast we train. All we’re doing is subtracting η ∂w1/​∂L​ from w1​:\n",
        "\n",
        "\n",
        "If we do this for every weight and bias in the network, the loss will slowly decrease and our network will improve.\n",
        "\n",
        "\n",
        "Our training process will look like this:\n",
        "\n",
        "\n",
        "\n",
        "1.  Choose one sample from our dataset.\n",
        "2.  Calculate all the partial derivatives of loss with respect to weights or biases (e.g. ∂L/∂w1​, ∂L​/∂w2​, etc).\n",
        "\n",
        "3. Use the update equation to update each weight and bias.\n",
        "\n",
        "4. Go back to step 1.\n",
        "\n",
        "\n",
        "Now lets implement it using tensorflow where keras has inbuilt library which will perform all the calculation for us.\n",
        "\n",
        "\n",
        "\n"
      ]
    },
    {
      "cell_type": "markdown",
      "metadata": {
        "id": "0Oi93NoydJKW",
        "colab_type": "text"
      },
      "source": [
        "##**Implementation using Tensorflow**\n",
        "\n",
        "We have used heart disease dataset for binary classification. "
      ]
    },
    {
      "cell_type": "code",
      "metadata": {
        "id": "7Puas7PsVajS",
        "colab_type": "code",
        "colab": {
          "base_uri": "https://localhost:8080/",
          "height": 34
        },
        "outputId": "6463a143-6ab3-447e-b1d5-25e5b3d76df4"
      },
      "source": [
        "import numpy as np\n",
        "import pandas as pd\n",
        "import matplotlib.pyplot as plt\n",
        "from sklearn.model_selection import train_test_split\n",
        "from keras.models import Sequential\n",
        "from keras.layers import Dense"
      ],
      "execution_count": 1,
      "outputs": [
        {
          "output_type": "stream",
          "text": [
            "Using TensorFlow backend.\n"
          ],
          "name": "stderr"
        }
      ]
    },
    {
      "cell_type": "code",
      "metadata": {
        "id": "a23uSzlwdg2M",
        "colab_type": "code",
        "colab": {}
      },
      "source": [
        "data = pd.read_csv('/content/heart.csv')"
      ],
      "execution_count": 0,
      "outputs": []
    },
    {
      "cell_type": "code",
      "metadata": {
        "id": "XLfkHTdsdk0K",
        "colab_type": "code",
        "colab": {
          "base_uri": "https://localhost:8080/",
          "height": 204
        },
        "outputId": "7e875d28-a6b6-46e9-d55f-90eaec1e31ff"
      },
      "source": [
        "data.head()"
      ],
      "execution_count": 3,
      "outputs": [
        {
          "output_type": "execute_result",
          "data": {
            "text/html": [
              "<div>\n",
              "<style scoped>\n",
              "    .dataframe tbody tr th:only-of-type {\n",
              "        vertical-align: middle;\n",
              "    }\n",
              "\n",
              "    .dataframe tbody tr th {\n",
              "        vertical-align: top;\n",
              "    }\n",
              "\n",
              "    .dataframe thead th {\n",
              "        text-align: right;\n",
              "    }\n",
              "</style>\n",
              "<table border=\"1\" class=\"dataframe\">\n",
              "  <thead>\n",
              "    <tr style=\"text-align: right;\">\n",
              "      <th></th>\n",
              "      <th>age</th>\n",
              "      <th>sex</th>\n",
              "      <th>cp</th>\n",
              "      <th>trestbps</th>\n",
              "      <th>chol</th>\n",
              "      <th>fbs</th>\n",
              "      <th>restecg</th>\n",
              "      <th>thalach</th>\n",
              "      <th>exang</th>\n",
              "      <th>oldpeak</th>\n",
              "      <th>slope</th>\n",
              "      <th>ca</th>\n",
              "      <th>thal</th>\n",
              "      <th>target</th>\n",
              "    </tr>\n",
              "  </thead>\n",
              "  <tbody>\n",
              "    <tr>\n",
              "      <th>0</th>\n",
              "      <td>63</td>\n",
              "      <td>1</td>\n",
              "      <td>3</td>\n",
              "      <td>145</td>\n",
              "      <td>233</td>\n",
              "      <td>1</td>\n",
              "      <td>0</td>\n",
              "      <td>150</td>\n",
              "      <td>0</td>\n",
              "      <td>2.3</td>\n",
              "      <td>0</td>\n",
              "      <td>0</td>\n",
              "      <td>1</td>\n",
              "      <td>1</td>\n",
              "    </tr>\n",
              "    <tr>\n",
              "      <th>1</th>\n",
              "      <td>37</td>\n",
              "      <td>1</td>\n",
              "      <td>2</td>\n",
              "      <td>130</td>\n",
              "      <td>250</td>\n",
              "      <td>0</td>\n",
              "      <td>1</td>\n",
              "      <td>187</td>\n",
              "      <td>0</td>\n",
              "      <td>3.5</td>\n",
              "      <td>0</td>\n",
              "      <td>0</td>\n",
              "      <td>2</td>\n",
              "      <td>1</td>\n",
              "    </tr>\n",
              "    <tr>\n",
              "      <th>2</th>\n",
              "      <td>41</td>\n",
              "      <td>0</td>\n",
              "      <td>1</td>\n",
              "      <td>130</td>\n",
              "      <td>204</td>\n",
              "      <td>0</td>\n",
              "      <td>0</td>\n",
              "      <td>172</td>\n",
              "      <td>0</td>\n",
              "      <td>1.4</td>\n",
              "      <td>2</td>\n",
              "      <td>0</td>\n",
              "      <td>2</td>\n",
              "      <td>1</td>\n",
              "    </tr>\n",
              "    <tr>\n",
              "      <th>3</th>\n",
              "      <td>56</td>\n",
              "      <td>1</td>\n",
              "      <td>1</td>\n",
              "      <td>120</td>\n",
              "      <td>236</td>\n",
              "      <td>0</td>\n",
              "      <td>1</td>\n",
              "      <td>178</td>\n",
              "      <td>0</td>\n",
              "      <td>0.8</td>\n",
              "      <td>2</td>\n",
              "      <td>0</td>\n",
              "      <td>2</td>\n",
              "      <td>1</td>\n",
              "    </tr>\n",
              "    <tr>\n",
              "      <th>4</th>\n",
              "      <td>57</td>\n",
              "      <td>0</td>\n",
              "      <td>0</td>\n",
              "      <td>120</td>\n",
              "      <td>354</td>\n",
              "      <td>0</td>\n",
              "      <td>1</td>\n",
              "      <td>163</td>\n",
              "      <td>1</td>\n",
              "      <td>0.6</td>\n",
              "      <td>2</td>\n",
              "      <td>0</td>\n",
              "      <td>2</td>\n",
              "      <td>1</td>\n",
              "    </tr>\n",
              "  </tbody>\n",
              "</table>\n",
              "</div>"
            ],
            "text/plain": [
              "   age  sex  cp  trestbps  chol  fbs  ...  exang  oldpeak  slope  ca  thal  target\n",
              "0   63    1   3       145   233    1  ...      0      2.3      0   0     1       1\n",
              "1   37    1   2       130   250    0  ...      0      3.5      0   0     2       1\n",
              "2   41    0   1       130   204    0  ...      0      1.4      2   0     2       1\n",
              "3   56    1   1       120   236    0  ...      0      0.8      2   0     2       1\n",
              "4   57    0   0       120   354    0  ...      1      0.6      2   0     2       1\n",
              "\n",
              "[5 rows x 14 columns]"
            ]
          },
          "metadata": {
            "tags": []
          },
          "execution_count": 3
        }
      ]
    },
    {
      "cell_type": "code",
      "metadata": {
        "id": "GpMrImqsdnBB",
        "colab_type": "code",
        "colab": {}
      },
      "source": [
        "x=data.drop('target',axis=1)"
      ],
      "execution_count": 0,
      "outputs": []
    },
    {
      "cell_type": "code",
      "metadata": {
        "id": "NIwkt1tPdpSC",
        "colab_type": "code",
        "colab": {}
      },
      "source": [
        "y = data[\"target\"]"
      ],
      "execution_count": 0,
      "outputs": []
    },
    {
      "cell_type": "code",
      "metadata": {
        "id": "0M_DzcHvdq9w",
        "colab_type": "code",
        "colab": {}
      },
      "source": [
        "X_train,X_test,Y_train,Y_test = train_test_split(x,y,random_state=42)"
      ],
      "execution_count": 0,
      "outputs": []
    },
    {
      "cell_type": "code",
      "metadata": {
        "id": "48n_w3sgdu7B",
        "colab_type": "code",
        "colab": {}
      },
      "source": [
        "model = Sequential()\n",
        "model.add(Dense(1,activation='sigmoid',input_dim=13))\n",
        "model.compile(loss='binary_crossentropy',optimizer='SGD',metrics=['accuracy'])"
      ],
      "execution_count": 0,
      "outputs": []
    },
    {
      "cell_type": "code",
      "metadata": {
        "id": "6trWeplZeTUQ",
        "colab_type": "code",
        "colab": {
          "base_uri": "https://localhost:8080/",
          "height": 1000
        },
        "outputId": "42fb3fb8-efa1-4f44-e107-eff0a902e869"
      },
      "source": [
        "history=model.fit(X_train, Y_train, epochs=50, validation_data=(X_test, Y_test))"
      ],
      "execution_count": 8,
      "outputs": [
        {
          "output_type": "stream",
          "text": [
            "Train on 227 samples, validate on 76 samples\n",
            "Epoch 1/50\n",
            "227/227 [==============================] - 0s 333us/step - loss: 154.3970 - accuracy: 0.4537 - val_loss: 103.3239 - val_accuracy: 0.4605\n",
            "Epoch 2/50\n",
            "227/227 [==============================] - 0s 60us/step - loss: 139.0396 - accuracy: 0.4714 - val_loss: 53.8169 - val_accuracy: 0.4605\n",
            "Epoch 3/50\n",
            "227/227 [==============================] - 0s 60us/step - loss: 139.8590 - accuracy: 0.4890 - val_loss: 74.1310 - val_accuracy: 0.5395\n",
            "Epoch 4/50\n",
            "227/227 [==============================] - 0s 50us/step - loss: 151.6545 - accuracy: 0.4626 - val_loss: 169.7476 - val_accuracy: 0.4605\n",
            "Epoch 5/50\n",
            "227/227 [==============================] - 0s 50us/step - loss: 105.5234 - accuracy: 0.5242 - val_loss: 164.2262 - val_accuracy: 0.4605\n",
            "Epoch 6/50\n",
            "227/227 [==============================] - 0s 48us/step - loss: 98.7920 - accuracy: 0.5374 - val_loss: 56.9778 - val_accuracy: 0.4605\n",
            "Epoch 7/50\n",
            "227/227 [==============================] - 0s 54us/step - loss: 105.7327 - accuracy: 0.5110 - val_loss: 56.8398 - val_accuracy: 0.5395\n",
            "Epoch 8/50\n",
            "227/227 [==============================] - 0s 53us/step - loss: 134.7909 - accuracy: 0.4802 - val_loss: 255.1070 - val_accuracy: 0.5395\n",
            "Epoch 9/50\n",
            "227/227 [==============================] - 0s 49us/step - loss: 114.5845 - accuracy: 0.5463 - val_loss: 175.7200 - val_accuracy: 0.5395\n",
            "Epoch 10/50\n",
            "227/227 [==============================] - 0s 49us/step - loss: 121.9073 - accuracy: 0.5198 - val_loss: 140.7553 - val_accuracy: 0.5395\n",
            "Epoch 11/50\n",
            "227/227 [==============================] - 0s 54us/step - loss: 100.7638 - accuracy: 0.5374 - val_loss: 52.9385 - val_accuracy: 0.5526\n",
            "Epoch 12/50\n",
            "227/227 [==============================] - 0s 52us/step - loss: 140.3805 - accuracy: 0.4670 - val_loss: 339.8439 - val_accuracy: 0.5395\n",
            "Epoch 13/50\n",
            "227/227 [==============================] - 0s 48us/step - loss: 116.6635 - accuracy: 0.5639 - val_loss: 50.6904 - val_accuracy: 0.5526\n",
            "Epoch 14/50\n",
            "227/227 [==============================] - 0s 50us/step - loss: 111.6443 - accuracy: 0.5198 - val_loss: 16.1591 - val_accuracy: 0.6974\n",
            "Epoch 15/50\n",
            "227/227 [==============================] - 0s 57us/step - loss: 89.4837 - accuracy: 0.5286 - val_loss: 12.9181 - val_accuracy: 0.7368\n",
            "Epoch 16/50\n",
            "227/227 [==============================] - 0s 51us/step - loss: 90.6373 - accuracy: 0.5507 - val_loss: 178.9572 - val_accuracy: 0.5395\n",
            "Epoch 17/50\n",
            "227/227 [==============================] - 0s 49us/step - loss: 88.1764 - accuracy: 0.5727 - val_loss: 63.0228 - val_accuracy: 0.5132\n",
            "Epoch 18/50\n",
            "227/227 [==============================] - 0s 56us/step - loss: 95.2972 - accuracy: 0.5198 - val_loss: 227.6608 - val_accuracy: 0.5395\n",
            "Epoch 19/50\n",
            "227/227 [==============================] - 0s 53us/step - loss: 103.6849 - accuracy: 0.5595 - val_loss: 72.4917 - val_accuracy: 0.5526\n",
            "Epoch 20/50\n",
            "227/227 [==============================] - 0s 60us/step - loss: 84.2178 - accuracy: 0.5815 - val_loss: 21.5227 - val_accuracy: 0.6711\n",
            "Epoch 21/50\n",
            "227/227 [==============================] - 0s 51us/step - loss: 86.2860 - accuracy: 0.5507 - val_loss: 241.2949 - val_accuracy: 0.4605\n",
            "Epoch 22/50\n",
            "227/227 [==============================] - 0s 51us/step - loss: 136.3981 - accuracy: 0.4714 - val_loss: 282.9415 - val_accuracy: 0.4605\n",
            "Epoch 23/50\n",
            "227/227 [==============================] - 0s 54us/step - loss: 82.9912 - accuracy: 0.6035 - val_loss: 67.3993 - val_accuracy: 0.5526\n",
            "Epoch 24/50\n",
            "227/227 [==============================] - 0s 67us/step - loss: 61.4778 - accuracy: 0.6211 - val_loss: 366.6931 - val_accuracy: 0.4605\n",
            "Epoch 25/50\n",
            "227/227 [==============================] - 0s 60us/step - loss: 127.2400 - accuracy: 0.5683 - val_loss: 28.1408 - val_accuracy: 0.6974\n",
            "Epoch 26/50\n",
            "227/227 [==============================] - 0s 56us/step - loss: 92.0335 - accuracy: 0.5242 - val_loss: 24.8342 - val_accuracy: 0.7237\n",
            "Epoch 27/50\n",
            "227/227 [==============================] - 0s 57us/step - loss: 82.8704 - accuracy: 0.5683 - val_loss: 58.8956 - val_accuracy: 0.6184\n",
            "Epoch 28/50\n",
            "227/227 [==============================] - 0s 52us/step - loss: 90.5396 - accuracy: 0.5507 - val_loss: 63.5679 - val_accuracy: 0.5658\n",
            "Epoch 29/50\n",
            "227/227 [==============================] - 0s 53us/step - loss: 48.2447 - accuracy: 0.6123 - val_loss: 107.8144 - val_accuracy: 0.4737\n",
            "Epoch 30/50\n",
            "227/227 [==============================] - 0s 53us/step - loss: 76.8051 - accuracy: 0.5947 - val_loss: 45.1918 - val_accuracy: 0.6184\n",
            "Epoch 31/50\n",
            "227/227 [==============================] - 0s 52us/step - loss: 68.2562 - accuracy: 0.5903 - val_loss: 88.2427 - val_accuracy: 0.5000\n",
            "Epoch 32/50\n",
            "227/227 [==============================] - 0s 56us/step - loss: 91.5455 - accuracy: 0.5419 - val_loss: 353.7490 - val_accuracy: 0.4605\n",
            "Epoch 33/50\n",
            "227/227 [==============================] - 0s 56us/step - loss: 142.2870 - accuracy: 0.4978 - val_loss: 31.7273 - val_accuracy: 0.6447\n",
            "Epoch 34/50\n",
            "227/227 [==============================] - 0s 55us/step - loss: 93.1221 - accuracy: 0.5242 - val_loss: 41.6448 - val_accuracy: 0.6316\n",
            "Epoch 35/50\n",
            "227/227 [==============================] - 0s 54us/step - loss: 73.5569 - accuracy: 0.5991 - val_loss: 20.6055 - val_accuracy: 0.7500\n",
            "Epoch 36/50\n",
            "227/227 [==============================] - 0s 54us/step - loss: 35.0416 - accuracy: 0.6476 - val_loss: 87.4175 - val_accuracy: 0.5000\n",
            "Epoch 37/50\n",
            "227/227 [==============================] - 0s 56us/step - loss: 90.3772 - accuracy: 0.5374 - val_loss: 23.7659 - val_accuracy: 0.7368\n",
            "Epoch 38/50\n",
            "227/227 [==============================] - 0s 58us/step - loss: 91.5169 - accuracy: 0.5419 - val_loss: 135.4330 - val_accuracy: 0.4605\n",
            "Epoch 39/50\n",
            "227/227 [==============================] - 0s 58us/step - loss: 92.9963 - accuracy: 0.5507 - val_loss: 16.4140 - val_accuracy: 0.8026\n",
            "Epoch 40/50\n",
            "227/227 [==============================] - 0s 62us/step - loss: 56.1665 - accuracy: 0.6300 - val_loss: 83.8892 - val_accuracy: 0.5132\n",
            "Epoch 41/50\n",
            "227/227 [==============================] - 0s 50us/step - loss: 83.9337 - accuracy: 0.5727 - val_loss: 25.6536 - val_accuracy: 0.7105\n",
            "Epoch 42/50\n",
            "227/227 [==============================] - 0s 53us/step - loss: 68.7428 - accuracy: 0.5859 - val_loss: 334.4533 - val_accuracy: 0.5395\n",
            "Epoch 43/50\n",
            "227/227 [==============================] - 0s 61us/step - loss: 120.7476 - accuracy: 0.5859 - val_loss: 30.1566 - val_accuracy: 0.6842\n",
            "Epoch 44/50\n",
            "227/227 [==============================] - 0s 52us/step - loss: 76.9900 - accuracy: 0.5947 - val_loss: 296.7300 - val_accuracy: 0.4605\n",
            "Epoch 45/50\n",
            "227/227 [==============================] - 0s 53us/step - loss: 89.5277 - accuracy: 0.5595 - val_loss: 49.5567 - val_accuracy: 0.6316\n",
            "Epoch 46/50\n",
            "227/227 [==============================] - 0s 52us/step - loss: 83.2315 - accuracy: 0.5330 - val_loss: 129.4071 - val_accuracy: 0.4737\n",
            "Epoch 47/50\n",
            "227/227 [==============================] - 0s 56us/step - loss: 82.0085 - accuracy: 0.5463 - val_loss: 45.1720 - val_accuracy: 0.6711\n",
            "Epoch 48/50\n",
            "227/227 [==============================] - 0s 52us/step - loss: 62.3417 - accuracy: 0.6035 - val_loss: 25.8780 - val_accuracy: 0.7368\n",
            "Epoch 49/50\n",
            "227/227 [==============================] - 0s 55us/step - loss: 74.9108 - accuracy: 0.5815 - val_loss: 20.9283 - val_accuracy: 0.7500\n",
            "Epoch 50/50\n",
            "227/227 [==============================] - 0s 54us/step - loss: 47.1479 - accuracy: 0.6300 - val_loss: 242.3546 - val_accuracy: 0.5395\n"
          ],
          "name": "stdout"
        }
      ]
    },
    {
      "cell_type": "code",
      "metadata": {
        "id": "VNtir3rxfPsF",
        "colab_type": "code",
        "colab": {
          "base_uri": "https://localhost:8080/",
          "height": 1000
        },
        "outputId": "df888aad-9557-4c44-c4bd-8bef3e9210f0"
      },
      "source": [
        "model.predict_classes(X_test,verbose=0)"
      ],
      "execution_count": 9,
      "outputs": [
        {
          "output_type": "execute_result",
          "data": {
            "text/plain": [
              "array([[1],\n",
              "       [1],\n",
              "       [1],\n",
              "       [1],\n",
              "       [1],\n",
              "       [1],\n",
              "       [1],\n",
              "       [1],\n",
              "       [1],\n",
              "       [1],\n",
              "       [1],\n",
              "       [1],\n",
              "       [1],\n",
              "       [1],\n",
              "       [1],\n",
              "       [1],\n",
              "       [1],\n",
              "       [1],\n",
              "       [1],\n",
              "       [1],\n",
              "       [1],\n",
              "       [1],\n",
              "       [1],\n",
              "       [1],\n",
              "       [1],\n",
              "       [1],\n",
              "       [1],\n",
              "       [1],\n",
              "       [1],\n",
              "       [1],\n",
              "       [1],\n",
              "       [1],\n",
              "       [1],\n",
              "       [1],\n",
              "       [1],\n",
              "       [1],\n",
              "       [1],\n",
              "       [1],\n",
              "       [1],\n",
              "       [1],\n",
              "       [1],\n",
              "       [1],\n",
              "       [1],\n",
              "       [1],\n",
              "       [1],\n",
              "       [1],\n",
              "       [1],\n",
              "       [1],\n",
              "       [1],\n",
              "       [1],\n",
              "       [1],\n",
              "       [1],\n",
              "       [1],\n",
              "       [1],\n",
              "       [1],\n",
              "       [1],\n",
              "       [1],\n",
              "       [1],\n",
              "       [1],\n",
              "       [1],\n",
              "       [1],\n",
              "       [1],\n",
              "       [1],\n",
              "       [1],\n",
              "       [1],\n",
              "       [1],\n",
              "       [1],\n",
              "       [1],\n",
              "       [1],\n",
              "       [1],\n",
              "       [1],\n",
              "       [1],\n",
              "       [1],\n",
              "       [1],\n",
              "       [1],\n",
              "       [1]], dtype=int32)"
            ]
          },
          "metadata": {
            "tags": []
          },
          "execution_count": 9
        }
      ]
    },
    {
      "cell_type": "markdown",
      "metadata": {
        "id": "m8OggfMPggzx",
        "colab_type": "text"
      },
      "source": [
        "##**Conclusion**\n",
        "\n",
        "We have succesfully buid our Neural Network model using tensorflow.\n"
      ]
    }
  ]
}